{
 "cells": [
  {
   "cell_type": "code",
   "execution_count": 1,
   "metadata": {
    "collapsed": true
   },
   "outputs": [],
   "source": [
    "MAX_LENGTH = 10"
   ]
  },
  {
   "cell_type": "code",
   "execution_count": 2,
   "metadata": {},
   "outputs": [
    {
     "name": "stdout",
     "output_type": "stream",
     "text": [
      "['tr_data/europarl-v7.fr-en.en', 'tr_data/europarl-v7.fr-en.fr']\n",
      "Reading lines...\n",
      "Read 88591 sentence pairs\n",
      "Trimmed to 21860 sentence pairs\n",
      "Indexing words...\n",
      "Spliting sentence pairs...\n",
      "====== Total Data ======\n",
      "Train Sentence pairs:  17488\n",
      "Test Sentence pairs:  4372\n",
      "lang1 n_words:  11444 max_len:  9\n",
      "lang2 n_words:  8849 max_len:  9\n"
     ]
    }
   ],
   "source": [
    "from data_util import prepare_data\n",
    "\n",
    "input_lang, output_lang, train_pairs, test_pairs = prepare_data('lang1', 'lang2', MAX_LENGTH, 2, True)"
   ]
  },
  {
   "cell_type": "code",
   "execution_count": 3,
   "metadata": {
    "collapsed": true
   },
   "outputs": [],
   "source": [
    "from models_complete import EncoderRNN, AttnDecoderRNN\n",
    "\n",
    "hidden_size = 256\n",
    "encoder1 = EncoderRNN(input_lang.n_words, hidden_size)\n",
    "attn_decoder1 = AttnDecoderRNN(hidden_size, output_lang.n_words,\n",
    "                               MAX_LENGTH, dropout_p=0.1)"
   ]
  },
  {
   "cell_type": "code",
   "execution_count": 4,
   "metadata": {
    "scrolled": true
   },
   "outputs": [
    {
     "name": "stdout",
     "output_type": "stream",
     "text": [
      "0m 13s (- 1m 59s) (100 10%) 5.1189\n",
      "0m 28s (- 1m 52s) (200 20%) 4.7453\n",
      "0m 43s (- 1m 40s) (300 30%) 4.2459\n",
      "0m 58s (- 1m 27s) (400 40%) 3.8996\n",
      "1m 13s (- 1m 13s) (500 50%) 3.5342\n",
      "1m 28s (- 0m 59s) (600 60%) 3.4777\n",
      "1m 44s (- 0m 44s) (700 70%) 3.2370\n",
      "1m 59s (- 0m 29s) (800 80%) 2.8356\n",
      "2m 15s (- 0m 15s) (900 90%) 2.4696\n",
      "2m 30s (- 0m 0s) (1000 100%) 2.1433\n"
     ]
    }
   ],
   "source": [
    "from train_complete import train_iters\n",
    "\n",
    "plot_losses = train_iters(encoder1, attn_decoder1, input_lang, \n",
    "            output_lang, train_pairs[:50], 1000, MAX_LENGTH)"
   ]
  },
  {
   "cell_type": "code",
   "execution_count": 5,
   "metadata": {
    "collapsed": true
   },
   "outputs": [],
   "source": [
    "import matplotlib.pyplot as plt\n",
    "import matplotlib.ticker as ticker\n",
    "import numpy as np\n",
    "%matplotlib inline\n",
    "\n",
    "def showPlot(points):\n",
    "    plt.figure()\n",
    "    fig, ax = plt.subplots()\n",
    "    # this locator puts ticks at regular intervals\n",
    "    loc = ticker.MultipleLocator(base=0.2)\n",
    "    ax.yaxis.set_major_locator(loc)\n",
    "    plt.plot(points)"
   ]
  },
  {
   "cell_type": "code",
   "execution_count": 6,
   "metadata": {},
   "outputs": [
    {
     "data": {
      "text/plain": [
       "<matplotlib.figure.Figure at 0x104aa8cf8>"
      ]
     },
     "metadata": {},
     "output_type": "display_data"
    },
    {
     "data": {
      "image/png": "[encoded data removed]",
      "text/plain": [
       "<matplotlib.figure.Figure at 0x1054d5588>"
      ]
     },
     "metadata": {},
     "output_type": "display_data"
    }
   ],
   "source": [
    "showPlot(plot_losses)"
   ]
  },
  {
   "cell_type": "code",
   "execution_count": 7,
   "metadata": {},
   "outputs": [
    {
     "name": "stdout",
     "output_type": "stream",
     "text": [
      "> nous savons tous ce qu endurent ces prisonniers .\n",
      "= we all know what those prisoners are suffering .\n",
      "< we can do more more helping those .\n",
      "\n",
      "> je voudrais en mentionner trois en particulier .\n",
      "= i would like to refer to three in particular .\n",
      "< i would like to refer to be .\n",
      "\n",
      "> mais nous avons aussi une part de responsabilite .\n",
      "= we also have our share of responsibility however .\n",
      "< we are do more more of for .\n",
      "\n",
      "> je voudrais en mentionner trois en particulier .\n",
      "= i would like to refer to three in particular .\n",
      "< i would like to refer to be .\n",
      "\n",
      "> moi je voudrais vous faire une proposition .\n",
      "= personally i would like to make a suggestion .\n",
      "< i would like like to refer a very .\n",
      "\n",
      "> on est contraint d en prendre acte .\n",
      "= we are forced to take note of it .\n",
      "< we are forced to take it a .\n",
      "\n",
      "> on est contraint d en prendre acte .\n",
      "= we are forced to take note of it .\n",
      "< we are forced to take note of it .\n",
      "\n",
      "> mais nous avons aussi une part de responsabilite .\n",
      "= we also have our share of responsibility however .\n",
      "< we are do more more of for .\n",
      "\n",
      "> la societe afghane reste aussi fracturee qu avant .\n",
      "= society in afghanistan remains as fractured as ever .\n",
      "< we are do more more of for .\n",
      "\n",
      "> mais nous avons aussi une part de responsabilite .\n",
      "= we also have our share of responsibility however .\n",
      "< we are do more more of for .\n",
      "\n",
      "accuracy:  10.0 %\n"
     ]
    },
    {
     "data": {
      "text/plain": [
       "'the vote will take place tomorrow at a .'"
      ]
     },
     "execution_count": 7,
     "metadata": {},
     "output_type": "execute_result"
    }
   ],
   "source": [
    "from predict import ModelPredictor\n",
    "\n",
    "predictor = ModelPredictor(encoder1, attn_decoder1, input_lang, output_lang, MAX_LENGTH)\n",
    "predictor.evaluate_randomly(train_pairs[:10])\n",
    "predictor.predict_sentence(\"je comprends il est essentiel .\")"
   ]
  }
 ],
 "metadata": {
  "kernelspec": {
   "display_name": "Python 3",
   "language": "python",
   "name": "python3"
  },
  "language_info": {
   "codemirror_mode": {
    "name": "ipython",
    "version": 3
   },
   "file_extension": ".py",
   "mimetype": "text/x-python",
   "name": "python",
   "nbconvert_exporter": "python",
   "pygments_lexer": "ipython3",
   "version": "3.6.1"
  }
 },
 "nbformat": 4,
 "nbformat_minor": 1
}
